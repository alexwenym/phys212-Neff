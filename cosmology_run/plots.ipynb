{
 "cells": [
  {
   "cell_type": "code",
   "execution_count": 1,
   "id": "f6e5f891-16d7-4bc2-bf4b-69b2978d5a26",
   "metadata": {},
   "outputs": [],
   "source": [
    "import getdist\n",
    "from cobaya.yaml import yaml_load_file\n",
    "from cobaya.run import run\n",
    "from getdist import MCSamples, plots\n",
    "from cobaya import load_samples\n",
    "\n",
    "info_from_yaml = yaml_load_file(\"planck_reduced_params.yaml\")"
   ]
  },
  {
   "cell_type": "code",
   "execution_count": 2,
   "id": "dc065190-c689-4f72-821d-aeb43ed371b8",
   "metadata": {},
   "outputs": [],
   "source": [
    "full_chain = load_samples(\"chains/planck_reduced\", skip=0.1, to_getdist=True)"
   ]
  },
  {
   "cell_type": "code",
   "execution_count": 13,
   "id": "068fa7cb-364a-4af4-851e-bcbe8c073d3b",
   "metadata": {},
   "outputs": [
    {
     "ename": "AttributeError",
     "evalue": "'MCSamples' object has no attribute 'products'",
     "output_type": "error",
     "traceback": [
      "\u001b[0;31m---------------------------------------------------------------------------\u001b[0m",
      "\u001b[0;31mAttributeError\u001b[0m                            Traceback (most recent call last)",
      "Cell \u001b[0;32mIn[13], line 1\u001b[0m\n\u001b[0;32m----> 1\u001b[0m gd_sample \u001b[38;5;241m=\u001b[39m \u001b[43mfull_chain\u001b[49m\u001b[38;5;241;43m.\u001b[39;49m\u001b[43mproducts\u001b[49m(to_getdist\u001b[38;5;241m=\u001b[39m\u001b[38;5;28;01mTrue\u001b[39;00m)[\u001b[38;5;124m\"\u001b[39m\u001b[38;5;124msample\u001b[39m\u001b[38;5;124m\"\u001b[39m]\n\u001b[1;32m      3\u001b[0m \u001b[38;5;66;03m# Analyze and plot\u001b[39;00m\n\u001b[1;32m      4\u001b[0m mean \u001b[38;5;241m=\u001b[39m gd_sample\u001b[38;5;241m.\u001b[39mgetMeans()[:\u001b[38;5;241m2\u001b[39m]\n",
      "\u001b[0;31mAttributeError\u001b[0m: 'MCSamples' object has no attribute 'products'"
     ]
    }
   ],
   "source": [
    "gd_sample = full_chain.products(to_getdist=True)[\"sample\"]\n",
    "\n",
    "# Analyze and plot\n",
    "mean = gd_sample.getMeans()[:2]\n",
    "covmat = gd_sample.getCovMat().matrix[:2, :2]\n",
    "print(\"Mean:\")\n",
    "print(mean)\n",
    "print(\"Covariance matrix:\")\n",
    "print(covmat)\n",
    "#%matplotlib inline \n",
    "import getdist.plots as gdplt\n",
    "\n",
    "gdplot = gdplt.get_subplot_plotter()\n",
    "gdplot.triangle_plot(gd_sample, [\"a\", \"b\"], filled=True)"
   ]
  },
  {
   "cell_type": "code",
   "execution_count": 3,
   "id": "ec609ae5-91c9-4517-b190-9933ecfabf98",
   "metadata": {},
   "outputs": [
    {
     "name": "stderr",
     "output_type": "stream",
     "text": [
      "WARNING:root:fine_bins_2D not large enough for optimal density: tau, chi2__planck_2018_lowl.EE\n",
      "WARNING:root:Parameters are 100% correlated: chi2__CMB, chi2\n",
      "WARNING:root:Parameters are 100% correlated: minuslogprior, minuslogprior__0\n"
     ]
    }
   ],
   "source": [
    "# Create a subplot plotter instance\n",
    "g = plots.getSubplotPlotter()\n",
    "\n",
    "# Make a triangle plot of all parameters in your samples object.\n",
    "# The filled option colors the contours.\n",
    "g.triangle_plot(full_chain, filled=True)\n",
    "\n",
    "# Optionally, you can save the figure:\n",
    "g.export('triangle_plot.pdf')"
   ]
  },
  {
   "cell_type": "code",
   "execution_count": null,
   "id": "544e37f6-ddeb-4c99-bf55-9c9a2574cff2",
   "metadata": {},
   "outputs": [],
   "source": []
  }
 ],
 "metadata": {
  "kernelspec": {
   "display_name": "Python (cobaya_env)",
   "language": "python",
   "name": "cobaya_env"
  },
  "language_info": {
   "codemirror_mode": {
    "name": "ipython",
    "version": 3
   },
   "file_extension": ".py",
   "mimetype": "text/x-python",
   "name": "python",
   "nbconvert_exporter": "python",
   "pygments_lexer": "ipython3",
   "version": "3.10.13"
  }
 },
 "nbformat": 4,
 "nbformat_minor": 5
}
